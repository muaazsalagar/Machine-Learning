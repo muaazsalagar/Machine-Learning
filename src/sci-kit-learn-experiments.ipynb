{
 "cells": [
  {
   "cell_type": "code",
   "execution_count": 2,
   "metadata": {
    "collapsed": false
   },
   "outputs": [],
   "source": [
    "import numpy as np"
   ]
  },
  {
   "cell_type": "code",
   "execution_count": 4,
   "metadata": {
    "collapsed": false
   },
   "outputs": [
    {
     "name": "stdout",
     "output_type": "stream",
     "text": [
      "[[ 0.54340494  0.27836939  0.42451759]\n",
      " [ 0.84477613  0.00471886  0.12156912]\n",
      " [ 0.67074908  0.82585276  0.13670659]\n",
      " [ 0.57509333  0.89132195  0.20920212]]\n"
     ]
    }
   ],
   "source": [
    "# seed is for research reproducibility\n",
    "\n",
    "\n",
    "randoms=np.random.RandomState(seed=100)\n",
    "\n",
    "X=randoms.uniform(low=0.0,high=1.0,size=(4,3))\n",
    "print X\n"
   ]
  },
  {
   "cell_type": "code",
   "execution_count": null,
   "metadata": {
    "collapsed": true
   },
   "outputs": [],
   "source": []
  }
 ],
 "metadata": {
  "kernelspec": {
   "display_name": "Python 2",
   "language": "python",
   "name": "python2"
  },
  "language_info": {
   "codemirror_mode": {
    "name": "ipython",
    "version": 2
   },
   "file_extension": ".py",
   "mimetype": "text/x-python",
   "name": "python",
   "nbconvert_exporter": "python",
   "pygments_lexer": "ipython2",
   "version": "2.7.10"
  }
 },
 "nbformat": 4,
 "nbformat_minor": 1
}
